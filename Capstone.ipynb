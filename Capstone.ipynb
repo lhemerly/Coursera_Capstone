{
 "cells": [
  {
   "cell_type": "markdown",
   "metadata": {},
   "source": [
    "# The brazilian restaurant viability analyzer"
   ]
  },
  {
   "cell_type": "markdown",
   "metadata": {},
   "source": [
    "##### This project is intended for the Coursera IBM Captsone Project.\n",
    "\n",
    "### Introduction\n",
    "\n",
    "There is a category of business that is often not the center of most academic research: the *marginal business*.\n",
    "Since marginal business usually have little differentiation from it's competitors, and the business model is usually quite widespread and common, the location of the business become a key feature in the marginal business success.\n",
    "\n",
    "The objective of this project is to use avaiable data and statistical analysis to identify locations with a higher chance of success for new marginal business. The question we are looking to answer is: \n",
    "\n",
    "---\n",
    "\n",
    "\n",
    "> #### HOW GOOD IS A GIVEN LOCATION TO START A NEW MARGINAL BUSINESS?\n",
    "\n",
    "---\n",
    "\n",
    "To keep things in a reasonable scope we will limit the analysis as following:\n",
    "\n",
    "- We will be analyzing one subprefecture of the city of São Paulo - Brazil.\n",
    "- We will be analyzing one business type only: Brazilian Restaurants\n",
    "\n",
    "Those limitations are needed not only to keep this project doable in a reasonable amount of time but also to cope with the limitations of the data we can obtain from limited free versions of avaiable APIs. It is important to note, though, that this project is totally sacalable and can be replicated to other cities as well, given the relevant dataset is avaiable.\n",
    "\n",
    "\n",
    "### Data\n",
    "\n",
    "After a thourough search in the internet for relevant data to answer our problem I found the following datasets:\n",
    "\n",
    "- GeoSampa Administrative Limits - subprefecture [GeoSampa](http://geosampa.prefeitura.sp.gov.br/PaginasPublicas/_SBC.aspx)\n",
    "- GeoSampa Administrative Limits - districts [GeoSampa](http://geosampa.prefeitura.sp.gov.br/PaginasPublicas/_SBC.aspx)\n",
    "- GeoSampa Populaton - Demographic Census [GeoSampa](http://geosampa.prefeitura.sp.gov.br/PaginasPublicas/_SBC.aspx)\n",
    "- GeoSampa Annual Report of Social Information(RAIS) [GeoSampa](http://geosampa.prefeitura.sp.gov.br/PaginasPublicas/_SBC.aspx)\n",
    "- Foursquare API - Location venue data [Foursquare API](https://developer.foursquare.com/)\n",
    "- Foursquare API - Venue details [Foursquare API](https://developer.foursquare.com/)\n",
    "\n",
    "Those are the initial data leveraged for the analysis, some of those may never be used. If any new dataset is added during the analysis of the data the relevant links will be supplied during the project.\n"
   ]
  },
  {
   "cell_type": "markdown",
   "metadata": {},
   "source": [
    "### Methodology\n",
    "\n",
    "In this section I will discuss the rationale behind the model that I am trying to build to answer the question at the *Introduction* section.\n",
    "\n",
    "To answer the question I will divide the problem starting from the answer and going back until the data.\n",
    "\n",
    "So first of all, a marginal business profit will be strongly related to it's **Revenue** and it's **Costs** or, the difference between the two, that is it's **Margin**. It is out of the scope of this project to try to estabilish the exact usual **Revenue** or **Costs** of the marginal business that I'm trying to analyse, that is *Brazilian Restaurants*, but we do want to know the main drivers of those that can impact business.\n",
    "\n",
    "I will start with the **Revenue** part of the problem. The **Revenue** of a business is given by the *price* for each product multiplied by the *volume* of each product sold. So the first part of the answer we want comes from the following question:\n",
    "\n",
    "---\n",
    "\n",
    "> **GIVEN A LOCATION, HOW MUCH CAN A BRAZILIAN RESTAURANT OWNER CHARGE FOR ITS FOOD?**\n",
    "\n",
    "---\n",
    "\n",
    "#### The price\n",
    "\n",
    "I understand that a lot of factors can play a role in restaurant prices. The quality of the food and the target market play a significant role in price but those are not necessarily related to the restaurant location. In the other hand there are other factor that are also relevant to the price that are related to the location, as for example the local income per capita, the local infraestructure and so on. Our first hypothesis will be then, that the main factor for restaurant price is the location, as that information may, if our hypothesis proves true, explain most of the price of a given restaurant. To test that hypothesis we will need to obtain a list of restaurants with the following features: **Latitude, Longitude, Price Range and Rating** . All those information can be obtained from the Foursquare API through the venue details method, but it is limited to 50 queries per day in a free account. To comply with that limit we will need to select a smaller region to our analysis.\n",
    "\n",
    "#### Reducing scope\n",
    "\n",
    "In order to reduce our scope to the limits of the API but to not lose relevant model information we will select a subprefecture diverse enough.\n",
    "\n"
   ]
  },
  {
   "cell_type": "code",
   "execution_count": null,
   "metadata": {},
   "outputs": [],
   "source": []
  }
 ],
 "metadata": {
  "kernelspec": {
   "display_name": "Python 3",
   "language": "python",
   "name": "python3"
  },
  "language_info": {
   "codemirror_mode": {
    "name": "ipython",
    "version": 3
   },
   "file_extension": ".py",
   "mimetype": "text/x-python",
   "name": "python",
   "nbconvert_exporter": "python",
   "pygments_lexer": "ipython3",
   "version": "3.7.6"
  }
 },
 "nbformat": 4,
 "nbformat_minor": 4
}
